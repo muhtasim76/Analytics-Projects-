{
 "cells": [
  {
   "cell_type": "code",
   "execution_count": 1,
   "id": "d4133d3e",
   "metadata": {},
   "outputs": [],
   "source": [
    "import matplotlib.pyplot as plt \n",
    "import pandas as pd"
   ]
  },
  {
   "cell_type": "code",
   "execution_count": 2,
   "id": "b47fd723",
   "metadata": {},
   "outputs": [
    {
     "name": "stdout",
     "output_type": "stream",
     "text": [
      "<class 'pandas.core.frame.DataFrame'>\n",
      "RangeIndex: 7043 entries, 0 to 7042\n",
      "Data columns (total 21 columns):\n",
      " #   Column            Non-Null Count  Dtype  \n",
      "---  ------            --------------  -----  \n",
      " 0   customerID        7043 non-null   object \n",
      " 1   gender            7043 non-null   object \n",
      " 2   SeniorCitizen     7043 non-null   int64  \n",
      " 3   Partner           7043 non-null   object \n",
      " 4   Dependents        7043 non-null   object \n",
      " 5   tenure            7043 non-null   int64  \n",
      " 6   PhoneService      7043 non-null   object \n",
      " 7   MultipleLines     7043 non-null   object \n",
      " 8   InternetService   7043 non-null   object \n",
      " 9   OnlineSecurity    7043 non-null   object \n",
      " 10  OnlineBackup      7043 non-null   object \n",
      " 11  DeviceProtection  7043 non-null   object \n",
      " 12  TechSupport       7043 non-null   object \n",
      " 13  StreamingTV       7043 non-null   object \n",
      " 14  StreamingMovies   7043 non-null   object \n",
      " 15  Contract          7043 non-null   object \n",
      " 16  PaperlessBilling  7043 non-null   object \n",
      " 17  PaymentMethod     7043 non-null   object \n",
      " 18  MonthlyCharges    7043 non-null   float64\n",
      " 19  TotalCharges      7043 non-null   object \n",
      " 20  Churn             7043 non-null   object \n",
      "dtypes: float64(1), int64(2), object(18)\n",
      "memory usage: 1.1+ MB\n"
     ]
    }
   ],
   "source": [
    "df= pd.read_csv(\"Telco-Customer-Churn.csv\")\n",
    "df.info()\n"
   ]
  },
  {
   "cell_type": "code",
   "execution_count": 3,
   "id": "c56178ce",
   "metadata": {},
   "outputs": [
    {
     "name": "stdout",
     "output_type": "stream",
     "text": [
      "<class 'pandas.core.frame.DataFrame'>\n",
      "Int64Index: 7032 entries, 0 to 7042\n",
      "Data columns (total 21 columns):\n",
      " #   Column            Non-Null Count  Dtype  \n",
      "---  ------            --------------  -----  \n",
      " 0   customerID        7032 non-null   object \n",
      " 1   gender            7032 non-null   object \n",
      " 2   SeniorCitizen     7032 non-null   int64  \n",
      " 3   Partner           7032 non-null   object \n",
      " 4   Dependents        7032 non-null   object \n",
      " 5   tenure            7032 non-null   int64  \n",
      " 6   PhoneService      7032 non-null   object \n",
      " 7   MultipleLines     7032 non-null   object \n",
      " 8   InternetService   7032 non-null   object \n",
      " 9   OnlineSecurity    7032 non-null   object \n",
      " 10  OnlineBackup      7032 non-null   object \n",
      " 11  DeviceProtection  7032 non-null   object \n",
      " 12  TechSupport       7032 non-null   object \n",
      " 13  StreamingTV       7032 non-null   object \n",
      " 14  StreamingMovies   7032 non-null   object \n",
      " 15  Contract          7032 non-null   object \n",
      " 16  PaperlessBilling  7032 non-null   object \n",
      " 17  PaymentMethod     7032 non-null   object \n",
      " 18  MonthlyCharges    7032 non-null   float64\n",
      " 19  TotalCharges      7032 non-null   float64\n",
      " 20  Churn             7032 non-null   object \n",
      "dtypes: float64(2), int64(2), object(17)\n",
      "memory usage: 1.2+ MB\n"
     ]
    }
   ],
   "source": [
    "#column total charges listed as object , we will convert it to float64. We will also removes the rows where at least one element is missing \n",
    "df['TotalCharges'] =pd.to_numeric(df[\"TotalCharges\"], errors='coerce')\n",
    "df_clean= df.dropna()\n",
    "\n",
    "df_clean.info() \n"
   ]
  },
  {
   "cell_type": "code",
   "execution_count": 4,
   "id": "724979ff",
   "metadata": {},
   "outputs": [
    {
     "name": "stdout",
     "output_type": "stream",
     "text": [
      "Overall churn rate withing last week\n",
      "No     73.42\n",
      "Yes    26.58\n",
      "Name: Churn, dtype: float64\n",
      "\n",
      "\n",
      "Churn rate by gender withing last week\n",
      "gender  Churn\n",
      "Female  No       2544\n",
      "        Yes       939\n",
      "Male    No       2619\n",
      "        Yes       930\n",
      "Name: Churn, dtype: int64\n"
     ]
    }
   ],
   "source": [
    "#Overall churn within last month. \n",
    "print(\"Overall churn rate withing last week\")\n",
    "total_churn = round((df_clean['Churn'].value_counts()/sum(df_clean['Churn'].value_counts())*100),2)\n",
    "print(total_churn)\n",
    "\n",
    "print(\"\\n\")\n",
    "print(\"Churn rate by gender withing last week\")\n",
    "churn_gender= df_clean.groupby('gender')['Churn'].value_counts()\n",
    "print(churn_gender)\n"
   ]
  },
  {
   "cell_type": "code",
   "execution_count": 15,
   "id": "866da9c6",
   "metadata": {},
   "outputs": [],
   "source": [
    "#Overall churn rate within last month is 26.58%, with almost same number of male and female"
   ]
  },
  {
   "cell_type": "code",
   "execution_count": 50,
   "id": "60505e1e",
   "metadata": {},
   "outputs": [
    {
     "name": "stdout",
     "output_type": "stream",
     "text": [
      "Churn rate for family size =1\n",
      "No     2157\n",
      "Yes    1123\n",
      "Name: Churn, dtype: int64\n",
      "No     65.76\n",
      "Yes    34.24\n",
      "Name: Churn, dtype: float64\n",
      "AxesSubplot(0.125,0.125;0.775x0.755)\n"
     ]
    },
    {
     "data": {
      "image/png": "[encoded data removed]",
      "text/plain": [
       "<Figure size 432x288 with 1 Axes>"
      ]
     },
     "metadata": {
      "needs_background": "light"
     },
     "output_type": "display_data"
    },
    {
     "name": "stdout",
     "output_type": "stream",
     "text": [
      "\n",
      "\n",
      "Churn rate for family size >1\n",
      "No     3006\n",
      "Yes     746\n",
      "Name: Churn, dtype: int64\n",
      "No     80.12\n",
      "Yes    19.88\n",
      "Name: Churn, dtype: float64\n",
      "AxesSubplot(0.125,0.125;0.775x0.755)\n"
     ]
    },
    {
     "data": {
      "image/png": "[encoded data removed]",
      "text/plain": [
       "<Figure size 432x288 with 1 Axes>"
      ]
     },
     "metadata": {
      "needs_background": "light"
     },
     "output_type": "display_data"
    }
   ],
   "source": [
    "# From filtered data, let's look at the churn rate based on family size.\n",
    "print(\"Churn rate for family size =1\")\n",
    "# Family size= 1\n",
    "df_fam_one = df_clean[(df_clean['Partner']=='No') &(df_clean['Dependents']=='No')]\n",
    "print(df_fam_one['Churn'].value_counts())\n",
    "print(round(((df_fam_one['Churn'].value_counts()) /sum(df_fam_one['Churn'].value_counts()))*100,2))\n",
    "print(round(((df_fam_one['Churn'].value_counts()) /sum(df_fam_one['Churn'].value_counts()))*100,2).plot(kind='bar',fc='lightgrey', ec='black'))\n",
    "plt.legend()\n",
    "plt.show()\n",
    "print(\"\\n\")\n",
    "\n",
    "print(\"Churn rate for family size >1\")\n",
    "#Family size >1\n",
    "df_fam_multiple = df_clean[(df_clean['Partner']=='Yes') | (df_clean['Dependents']=='Yes')]\n",
    "print(df_fam_multiple['Churn'].value_counts())\n",
    "print(round(((df_fam_multiple['Churn'].value_counts()) /sum(df_fam_multiple['Churn'].value_counts()))*100,2))\n",
    "print(round(((df_fam_multiple['Churn'].value_counts()) /sum(df_fam_multiple['Churn'].value_counts()))*100,2).plot(kind='bar',fc='lightgrey',ec='black'))\n",
    "plt.legend()\n",
    "plt.show()"
   ]
  },
  {
   "cell_type": "code",
   "execution_count": 52,
   "id": "833bd5ad",
   "metadata": {
    "scrolled": true
   },
   "outputs": [
    {
     "name": "stdout",
     "output_type": "stream",
     "text": [
      "Phone users among single people :\n",
      "Yes    671\n",
      "Name: PhoneService, dtype: int64\n",
      "No     595\n",
      "Yes     76\n",
      "Name: Churn, dtype: int64\n",
      "No     88.67\n",
      "Yes    11.33\n",
      "Name: Churn, dtype: float64\n"
     ]
    }
   ],
   "source": [
    "# Phone users among single peopel and churn rate \n",
    "PhoneServicesingle =df_fam_one[(df_fam_one['PhoneService']=='Yes') & (df_fam_one['InternetService']=='No')]\n",
    "print(\"Phone users among single people :\")\n",
    "print(PhoneServicesingle['PhoneService'].value_counts())\n",
    "\n",
    "print(PhoneServicesingle['Churn'].value_counts())\n",
    "print(round((PhoneServicesingle['Churn'].value_counts()/ sum(PhoneServicesingle['Churn'].value_counts()))*100,2))"
   ]
  },
  {
   "cell_type": "code",
   "execution_count": 53,
   "id": "be3990e4",
   "metadata": {},
   "outputs": [
    {
     "name": "stdout",
     "output_type": "stream",
     "text": [
      "Interenet users among single people and churn rate:\n",
      "Yes    327\n",
      "Name: InternetService, dtype: int64\n",
      "No     224\n",
      "Yes    103\n",
      "Name: Churn, dtype: int64\n",
      "No     68.5\n",
      "Yes    31.5\n",
      "Name: Churn, dtype: float64\n"
     ]
    },
    {
     "name": "stderr",
     "output_type": "stream",
     "text": [
      "<ipython-input-53-bf1825178aaf>:1: SettingWithCopyWarning: \n",
      "A value is trying to be set on a copy of a slice from a DataFrame.\n",
      "Try using .loc[row_indexer,col_indexer] = value instead\n",
      "\n",
      "See the caveats in the documentation: https://pandas.pydata.org/pandas-docs/stable/user_guide/indexing.html#returning-a-view-versus-a-copy\n",
      "  df_fam_one['InternetService'] = df['InternetService'].replace({'Fiber optic':'Yes', 'DSL':'Yes'})\n"
     ]
    }
   ],
   "source": [
    "df_fam_one['InternetService'] = df['InternetService'].replace({'Fiber optic':'Yes', 'DSL':'Yes'})\n",
    "InternetServiceSingle = df_fam_one[(df_fam_one['InternetService']=='Yes') & (df_fam_one['PhoneService']=='No')]\n",
    "print(\"Interenet users among single people and churn rate:\")\n",
    "print(InternetServiceSingle['InternetService'].value_counts())\n",
    "print(InternetServiceSingle['Churn'].value_counts())\n",
    "print(round((InternetServiceSingle['Churn'].value_counts()/ sum(InternetServiceSingle['Churn'].value_counts()))*100,2))\n"
   ]
  },
  {
   "cell_type": "code",
   "execution_count": 24,
   "id": "bbffd047",
   "metadata": {},
   "outputs": [],
   "source": [
    "# Among single people,  Churn rate is higher for the people with internet service "
   ]
  },
  {
   "cell_type": "code",
   "execution_count": 55,
   "id": "1162cf9c",
   "metadata": {
    "scrolled": true
   },
   "outputs": [
    {
     "name": "stdout",
     "output_type": "stream",
     "text": [
      "Phone users :\n",
      "Yes    849\n",
      "Name: PhoneService, dtype: int64\n",
      "No     812\n",
      "Yes     37\n",
      "Name: Churn, dtype: int64\n",
      "No     95.64\n",
      "Yes     4.36\n",
      "Name: Churn, dtype: float64\n"
     ]
    }
   ],
   "source": [
    "# we will also look at the people with fam >1 and see if similar trend apprers \n",
    "PhoneServicemultiple =df_fam_multiple[(df_fam_multiple['PhoneService']=='Yes') & (df_fam_multiple['InternetService']=='No')]\n",
    "print(\"Phone users :\")\n",
    "print(PhoneServicemultiple['PhoneService'].value_counts())\n",
    "\n",
    "print(PhoneServicemultiple['Churn'].value_counts())\n",
    "print(round((PhoneServicemultiple['Churn'].value_counts()/ sum(PhoneServicemultiple['Churn'].value_counts()))*100,2))"
   ]
  },
  {
   "cell_type": "code",
   "execution_count": 57,
   "id": "fd8e1012",
   "metadata": {},
   "outputs": [
    {
     "name": "stdout",
     "output_type": "stream",
     "text": [
      "Interenet users :\n",
      "Yes    353\n",
      "Name: InternetService, dtype: int64\n",
      "No     286\n",
      "Yes     67\n",
      "Name: Churn, dtype: int64\n",
      "No     81.02\n",
      "Yes    18.98\n",
      "Name: Churn, dtype: float64\n"
     ]
    },
    {
     "name": "stderr",
     "output_type": "stream",
     "text": [
      "<ipython-input-57-0d5bc530d491>:1: SettingWithCopyWarning: \n",
      "A value is trying to be set on a copy of a slice from a DataFrame.\n",
      "Try using .loc[row_indexer,col_indexer] = value instead\n",
      "\n",
      "See the caveats in the documentation: https://pandas.pydata.org/pandas-docs/stable/user_guide/indexing.html#returning-a-view-versus-a-copy\n",
      "  df_fam_multiple['InternetService'] = df_clean['InternetService'].replace({'Fiber optic':'Yes', 'DSL':'Yes'})\n"
     ]
    }
   ],
   "source": [
    "df_fam_multiple['InternetService'] = df_clean['InternetService'].replace({'Fiber optic':'Yes', 'DSL':'Yes'})\n",
    "InternetServiceMultiple = df_fam_multiple[(df_fam_multiple['InternetService']=='Yes') & (df_fam_multiple['PhoneService']=='No')]\n",
    "print(\"Interenet users :\")\n",
    "print(InternetServiceMultiple['InternetService'].value_counts())\n",
    "print(InternetServiceMultiple['Churn'].value_counts())\n",
    "print(round((InternetServiceMultiple['Churn'].value_counts()/ sum(InternetServiceMultiple['Churn'].value_counts()))*100,2))\n",
    "#InternetService =df_fam_multiple[(df_fam_multiple['PhoneService']=='No') & (df_fam_multiple['InternetService']=='Yes')]"
   ]
  },
  {
   "cell_type": "code",
   "execution_count": null,
   "id": "4edfafe2",
   "metadata": {},
   "outputs": [],
   "source": [
    "#for fam >1, churn rate is higher among internet users "
   ]
  },
  {
   "cell_type": "code",
   "execution_count": 59,
   "id": "5c31e22f",
   "metadata": {},
   "outputs": [
    {
     "name": "stdout",
     "output_type": "stream",
     "text": [
      "Single people, internet users, no amenities\n",
      "No     53.85\n",
      "Yes    46.15\n",
      "Name: Churn, dtype: float64\n"
     ]
    }
   ],
   "source": [
    "#Single\n",
    "#internet amenities no \n",
    "print(\"Single people, internet users, no amenities\")\n",
    "int_amnty_7 = InternetServiceSingle['DeviceProtection']=='No'\n",
    "int_amnty_8 = InternetServiceSingle['OnlineSecurity']=='No'\n",
    "int_amnty_9 = InternetServiceSingle['OnlineBackup']=='No'\n",
    "int_amnty_10 = InternetServiceSingle['TechSupport']=='No'\n",
    "int_amnty_11 = InternetServiceSingle['StreamingTV']=='No'\n",
    "int_amnty_12 = InternetServiceSingle['StreamingMovies']=='No'\n",
    "#only internet service  single people \n",
    "InternetServiceOnlySingle= InternetServiceSingle[int_amnty_7 &int_amnty_8 & int_amnty_9 & int_amnty_10 &int_amnty_11&int_amnty_12]\n",
    "print(round((InternetServiceOnlySingle['Churn'].value_counts()/sum(InternetServiceOnlySingle['Churn'].value_counts()))*100,2))"
   ]
  },
  {
   "cell_type": "code",
   "execution_count": 62,
   "id": "6fd8c31d",
   "metadata": {},
   "outputs": [
    {
     "name": "stdout",
     "output_type": "stream",
     "text": [
      "People with partner/dependent with internet, no amenities \n",
      "No     17\n",
      "Yes    11\n",
      "Name: Churn, dtype: int64\n",
      "No     60.71\n",
      "Yes    39.29\n",
      "Name: Churn, dtype: float64\n"
     ]
    }
   ],
   "source": [
    "# fam >1\n",
    "#internet amenities no\n",
    "print(\"People with partner/dependent with internet, no amenities \")\n",
    "int_amnty_13 = InternetServiceMultiple['DeviceProtection']=='No'\n",
    "int_amnty_14 = InternetServiceMultiple['OnlineSecurity']=='No'\n",
    "int_amnty_15 = InternetServiceMultiple['OnlineBackup']=='No'\n",
    "int_amnty_16 = InternetServiceMultiple['TechSupport']=='No'\n",
    "int_amnty_17 = InternetServiceMultiple['StreamingTV']=='No'\n",
    "int_amnty_18 = InternetServiceMultiple['StreamingMovies']=='No'\n",
    "InternetServiceOnlypartner= InternetServiceMultiple[int_amnty_13 &int_amnty_14 & int_amnty_15 & int_amnty_16 &int_amnty_17&int_amnty_18]\n",
    "print(InternetServiceOnlypartner['Churn'].value_counts())\n",
    "print(round((InternetServiceOnlypartner['Churn'].value_counts()/sum(InternetServiceOnlypartner['Churn'].value_counts())*100),2))"
   ]
  },
  {
   "cell_type": "code",
   "execution_count": 63,
   "id": "c7f4f14c",
   "metadata": {},
   "outputs": [
    {
     "name": "stdout",
     "output_type": "stream",
     "text": [
      "No     71.27\n",
      "Yes    28.73\n",
      "Name: Churn, dtype: float64\n"
     ]
    }
   ],
   "source": [
    "#single \n",
    "#Internet + at least one amenity single people\n",
    "#internet amenities yes\n",
    "int_amnty_1 = InternetServiceSingle['DeviceProtection']=='Yes'\n",
    "int_amnty_2 = InternetServiceSingle['OnlineSecurity']=='Yes'\n",
    "int_amnty_3 = InternetServiceSingle['OnlineBackup']=='Yes'\n",
    "int_amnty_4 = InternetServiceSingle['TechSupport']=='Yes'\n",
    "int_amnty_5 = InternetServiceSingle['StreamingTV']=='Yes'\n",
    "int_amnty_6 = InternetServiceSingle['StreamingMovies']=='Yes'\n",
    "\n",
    "InternetServiceAmenitySingle= InternetServiceSingle[int_amnty_1 | int_amnty_2 | int_amnty_3 | int_amnty_4 | int_amnty_5 | int_amnty_6]\n",
    "print(round((InternetServiceAmenitySingle['Churn'].value_counts()/sum(InternetServiceAmenitySingle['Churn'].value_counts())*100),2))"
   ]
  },
  {
   "cell_type": "code",
   "execution_count": 64,
   "id": "73d70c51",
   "metadata": {},
   "outputs": [
    {
     "name": "stdout",
     "output_type": "stream",
     "text": [
      "No     82.77\n",
      "Yes    17.23\n",
      "Name: Churn, dtype: float64\n"
     ]
    }
   ],
   "source": [
    "#fam >1\n",
    "#Internet + at least one amenity fam >1\n",
    "#internet amenities yes\n",
    "int_amnty_19 = InternetServiceMultiple['DeviceProtection']=='Yes'\n",
    "int_amnty_20 = InternetServiceMultiple['OnlineSecurity']=='Yes'\n",
    "int_amnty_21 = InternetServiceMultiple['OnlineBackup']=='Yes'\n",
    "int_amnty_22 = InternetServiceMultiple['TechSupport']=='Yes'\n",
    "int_amnty_23 = InternetServiceMultiple['StreamingTV']=='Yes'\n",
    "int_amnty_24 = InternetServiceMultiple['StreamingMovies']=='Yes'\n",
    "\n",
    "InternetServiceAmenitypartner= InternetServiceMultiple[int_amnty_19 | int_amnty_20 | int_amnty_21 | int_amnty_22 | int_amnty_23 | int_amnty_24]\n",
    "print(round((InternetServiceAmenitypartner['Churn'].value_counts()/sum(InternetServiceAmenitypartner['Churn'].value_counts())*100),2))"
   ]
  },
  {
   "cell_type": "code",
   "execution_count": 39,
   "id": "503b9308",
   "metadata": {
    "scrolled": true
   },
   "outputs": [
    {
     "data": {
      "text/html": [
       "<div>\n",
       "<style scoped>\n",
       "    .dataframe tbody tr th:only-of-type {\n",
       "        vertical-align: middle;\n",
       "    }\n",
       "\n",
       "    .dataframe tbody tr th {\n",
       "        vertical-align: top;\n",
       "    }\n",
       "\n",
       "    .dataframe thead th {\n",
       "        text-align: right;\n",
       "    }\n",
       "</style>\n",
       "<table border=\"1\" class=\"dataframe\">\n",
       "  <thead>\n",
       "    <tr style=\"text-align: right;\">\n",
       "      <th></th>\n",
       "      <th></th>\n",
       "      <th></th>\n",
       "      <th>MonthlyCharges</th>\n",
       "      <th>TotalCharges</th>\n",
       "    </tr>\n",
       "    <tr>\n",
       "      <th>Churn</th>\n",
       "      <th>Contract</th>\n",
       "      <th>PaymentMethod</th>\n",
       "      <th></th>\n",
       "      <th></th>\n",
       "    </tr>\n",
       "  </thead>\n",
       "  <tbody>\n",
       "    <tr>\n",
       "      <th rowspan=\"6\" valign=\"top\">No</th>\n",
       "      <th rowspan=\"4\" valign=\"top\">Month-to-month</th>\n",
       "      <th>Bank transfer (automatic)</th>\n",
       "      <td>25.130000</td>\n",
       "      <td>373.620000</td>\n",
       "    </tr>\n",
       "    <tr>\n",
       "      <th>Credit card (automatic)</th>\n",
       "      <td>25.037500</td>\n",
       "      <td>281.187500</td>\n",
       "    </tr>\n",
       "    <tr>\n",
       "      <th>Electronic check</th>\n",
       "      <td>24.725000</td>\n",
       "      <td>196.433333</td>\n",
       "    </tr>\n",
       "    <tr>\n",
       "      <th>Mailed check</th>\n",
       "      <td>24.820000</td>\n",
       "      <td>136.995000</td>\n",
       "    </tr>\n",
       "    <tr>\n",
       "      <th rowspan=\"2\" valign=\"top\">One year</th>\n",
       "      <th>Credit card (automatic)</th>\n",
       "      <td>24.350000</td>\n",
       "      <td>150.850000</td>\n",
       "    </tr>\n",
       "    <tr>\n",
       "      <th>Mailed check</th>\n",
       "      <td>25.350000</td>\n",
       "      <td>406.950000</td>\n",
       "    </tr>\n",
       "    <tr>\n",
       "      <th rowspan=\"4\" valign=\"top\">Yes</th>\n",
       "      <th rowspan=\"4\" valign=\"top\">Month-to-month</th>\n",
       "      <th>Bank transfer (automatic)</th>\n",
       "      <td>25.000000</td>\n",
       "      <td>63.650000</td>\n",
       "    </tr>\n",
       "    <tr>\n",
       "      <th>Credit card (automatic)</th>\n",
       "      <td>25.100000</td>\n",
       "      <td>712.850000</td>\n",
       "    </tr>\n",
       "    <tr>\n",
       "      <th>Electronic check</th>\n",
       "      <td>24.815385</td>\n",
       "      <td>64.519231</td>\n",
       "    </tr>\n",
       "    <tr>\n",
       "      <th>Mailed check</th>\n",
       "      <td>25.000000</td>\n",
       "      <td>36.856250</td>\n",
       "    </tr>\n",
       "  </tbody>\n",
       "</table>\n",
       "</div>"
      ],
      "text/plain": [
       "                                                MonthlyCharges  TotalCharges\n",
       "Churn Contract       PaymentMethod                                          \n",
       "No    Month-to-month Bank transfer (automatic)       25.130000    373.620000\n",
       "                     Credit card (automatic)         25.037500    281.187500\n",
       "                     Electronic check                24.725000    196.433333\n",
       "                     Mailed check                    24.820000    136.995000\n",
       "      One year       Credit card (automatic)         24.350000    150.850000\n",
       "                     Mailed check                    25.350000    406.950000\n",
       "Yes   Month-to-month Bank transfer (automatic)       25.000000     63.650000\n",
       "                     Credit card (automatic)         25.100000    712.850000\n",
       "                     Electronic check                24.815385     64.519231\n",
       "                     Mailed check                    25.000000     36.856250"
      ]
     },
     "execution_count": 39,
     "metadata": {},
     "output_type": "execute_result"
    }
   ],
   "source": [
    "#churn rate is higher among single people with no internet amenities \n",
    "InternetServiceOnlySingle.groupby(['Churn','Contract','PaymentMethod']).mean()[['MonthlyCharges','TotalCharges']]"
   ]
  },
  {
   "cell_type": "code",
   "execution_count": null,
   "id": "0f1beef6",
   "metadata": {},
   "outputs": [],
   "source": [
    "#churn rate is higher among  fam>1 with no internet amenities "
   ]
  },
  {
   "cell_type": "code",
   "execution_count": 46,
   "id": "be528aca",
   "metadata": {},
   "outputs": [
    {
     "data": {
      "text/html": [
       "<div>\n",
       "<style scoped>\n",
       "    .dataframe tbody tr th:only-of-type {\n",
       "        vertical-align: middle;\n",
       "    }\n",
       "\n",
       "    .dataframe tbody tr th {\n",
       "        vertical-align: top;\n",
       "    }\n",
       "\n",
       "    .dataframe thead th {\n",
       "        text-align: right;\n",
       "    }\n",
       "</style>\n",
       "<table border=\"1\" class=\"dataframe\">\n",
       "  <thead>\n",
       "    <tr style=\"text-align: right;\">\n",
       "      <th></th>\n",
       "      <th></th>\n",
       "      <th></th>\n",
       "      <th>MonthlyCharges</th>\n",
       "      <th>TotalCharges</th>\n",
       "    </tr>\n",
       "    <tr>\n",
       "      <th>Churn</th>\n",
       "      <th>Contract</th>\n",
       "      <th>PaymentMethod</th>\n",
       "      <th></th>\n",
       "      <th></th>\n",
       "    </tr>\n",
       "  </thead>\n",
       "  <tbody>\n",
       "    <tr>\n",
       "      <th rowspan=\"6\" valign=\"top\">No</th>\n",
       "      <th rowspan=\"4\" valign=\"top\">Month-to-month</th>\n",
       "      <th>Bank transfer (automatic)</th>\n",
       "      <td>25.130000</td>\n",
       "      <td>373.620000</td>\n",
       "    </tr>\n",
       "    <tr>\n",
       "      <th>Credit card (automatic)</th>\n",
       "      <td>25.037500</td>\n",
       "      <td>281.187500</td>\n",
       "    </tr>\n",
       "    <tr>\n",
       "      <th>Electronic check</th>\n",
       "      <td>24.725000</td>\n",
       "      <td>196.433333</td>\n",
       "    </tr>\n",
       "    <tr>\n",
       "      <th>Mailed check</th>\n",
       "      <td>24.820000</td>\n",
       "      <td>136.995000</td>\n",
       "    </tr>\n",
       "    <tr>\n",
       "      <th rowspan=\"2\" valign=\"top\">One year</th>\n",
       "      <th>Credit card (automatic)</th>\n",
       "      <td>24.350000</td>\n",
       "      <td>150.850000</td>\n",
       "    </tr>\n",
       "    <tr>\n",
       "      <th>Mailed check</th>\n",
       "      <td>25.350000</td>\n",
       "      <td>406.950000</td>\n",
       "    </tr>\n",
       "    <tr>\n",
       "      <th rowspan=\"4\" valign=\"top\">Yes</th>\n",
       "      <th rowspan=\"4\" valign=\"top\">Month-to-month</th>\n",
       "      <th>Bank transfer (automatic)</th>\n",
       "      <td>25.000000</td>\n",
       "      <td>63.650000</td>\n",
       "    </tr>\n",
       "    <tr>\n",
       "      <th>Credit card (automatic)</th>\n",
       "      <td>25.100000</td>\n",
       "      <td>712.850000</td>\n",
       "    </tr>\n",
       "    <tr>\n",
       "      <th>Electronic check</th>\n",
       "      <td>24.815385</td>\n",
       "      <td>64.519231</td>\n",
       "    </tr>\n",
       "    <tr>\n",
       "      <th>Mailed check</th>\n",
       "      <td>25.000000</td>\n",
       "      <td>36.856250</td>\n",
       "    </tr>\n",
       "  </tbody>\n",
       "</table>\n",
       "</div>"
      ],
      "text/plain": [
       "                                                MonthlyCharges  TotalCharges\n",
       "Churn Contract       PaymentMethod                                          \n",
       "No    Month-to-month Bank transfer (automatic)       25.130000    373.620000\n",
       "                     Credit card (automatic)         25.037500    281.187500\n",
       "                     Electronic check                24.725000    196.433333\n",
       "                     Mailed check                    24.820000    136.995000\n",
       "      One year       Credit card (automatic)         24.350000    150.850000\n",
       "                     Mailed check                    25.350000    406.950000\n",
       "Yes   Month-to-month Bank transfer (automatic)       25.000000     63.650000\n",
       "                     Credit card (automatic)         25.100000    712.850000\n",
       "                     Electronic check                24.815385     64.519231\n",
       "                     Mailed check                    25.000000     36.856250"
      ]
     },
     "execution_count": 46,
     "metadata": {},
     "output_type": "execute_result"
    }
   ],
   "source": [
    "InternetServiceOnlySingle.groupby(['Churn','Contract','PaymentMethod']).mean()[['MonthlyCharges','TotalCharges']]"
   ]
  },
  {
   "cell_type": "code",
   "execution_count": 47,
   "id": "dd6b3021",
   "metadata": {},
   "outputs": [
    {
     "data": {
      "text/html": [
       "<div>\n",
       "<style scoped>\n",
       "    .dataframe tbody tr th:only-of-type {\n",
       "        vertical-align: middle;\n",
       "    }\n",
       "\n",
       "    .dataframe tbody tr th {\n",
       "        vertical-align: top;\n",
       "    }\n",
       "\n",
       "    .dataframe thead th {\n",
       "        text-align: right;\n",
       "    }\n",
       "</style>\n",
       "<table border=\"1\" class=\"dataframe\">\n",
       "  <thead>\n",
       "    <tr style=\"text-align: right;\">\n",
       "      <th></th>\n",
       "      <th></th>\n",
       "      <th></th>\n",
       "      <th>MonthlyCharges</th>\n",
       "      <th>TotalCharges</th>\n",
       "    </tr>\n",
       "    <tr>\n",
       "      <th>Churn</th>\n",
       "      <th>Contract</th>\n",
       "      <th>PaymentMethod</th>\n",
       "      <th></th>\n",
       "      <th></th>\n",
       "    </tr>\n",
       "  </thead>\n",
       "  <tbody>\n",
       "    <tr>\n",
       "      <th rowspan=\"12\" valign=\"top\">No</th>\n",
       "      <th rowspan=\"4\" valign=\"top\">Month-to-month</th>\n",
       "      <th>Bank transfer (automatic)</th>\n",
       "      <td>65.823067</td>\n",
       "      <td>2049.132345</td>\n",
       "    </tr>\n",
       "    <tr>\n",
       "      <th>Credit card (automatic)</th>\n",
       "      <td>64.149178</td>\n",
       "      <td>1885.440411</td>\n",
       "    </tr>\n",
       "    <tr>\n",
       "      <th>Electronic check</th>\n",
       "      <td>71.746437</td>\n",
       "      <td>1768.714486</td>\n",
       "    </tr>\n",
       "    <tr>\n",
       "      <th>Mailed check</th>\n",
       "      <td>42.681342</td>\n",
       "      <td>624.239853</td>\n",
       "    </tr>\n",
       "    <tr>\n",
       "      <th rowspan=\"4\" valign=\"top\">One year</th>\n",
       "      <th>Bank transfer (automatic)</th>\n",
       "      <td>65.889943</td>\n",
       "      <td>3235.082861</td>\n",
       "    </tr>\n",
       "    <tr>\n",
       "      <th>Credit card (automatic)</th>\n",
       "      <td>65.849720</td>\n",
       "      <td>3227.901261</td>\n",
       "    </tr>\n",
       "    <tr>\n",
       "      <th>Electronic check</th>\n",
       "      <td>76.393110</td>\n",
       "      <td>3700.161837</td>\n",
       "    </tr>\n",
       "    <tr>\n",
       "      <th>Mailed check</th>\n",
       "      <td>42.465495</td>\n",
       "      <td>1439.525559</td>\n",
       "    </tr>\n",
       "    <tr>\n",
       "      <th rowspan=\"4\" valign=\"top\">Two year</th>\n",
       "      <th>Bank transfer (automatic)</th>\n",
       "      <td>63.979006</td>\n",
       "      <td>4098.748711</td>\n",
       "    </tr>\n",
       "    <tr>\n",
       "      <th>Credit card (automatic)</th>\n",
       "      <td>64.032451</td>\n",
       "      <td>4031.370459</td>\n",
       "    </tr>\n",
       "    <tr>\n",
       "      <th>Electronic check</th>\n",
       "      <td>84.013226</td>\n",
       "      <td>5265.557742</td>\n",
       "    </tr>\n",
       "    <tr>\n",
       "      <th>Mailed check</th>\n",
       "      <td>38.536559</td>\n",
       "      <td>1868.094624</td>\n",
       "    </tr>\n",
       "    <tr>\n",
       "      <th rowspan=\"12\" valign=\"top\">Yes</th>\n",
       "      <th rowspan=\"4\" valign=\"top\">Month-to-month</th>\n",
       "      <th>Bank transfer (automatic)</th>\n",
       "      <td>75.382836</td>\n",
       "      <td>1575.348010</td>\n",
       "    </tr>\n",
       "    <tr>\n",
       "      <th>Credit card (automatic)</th>\n",
       "      <td>74.916573</td>\n",
       "      <td>1642.755337</td>\n",
       "    </tr>\n",
       "    <tr>\n",
       "      <th>Electronic check</th>\n",
       "      <td>77.782294</td>\n",
       "      <td>1215.229577</td>\n",
       "    </tr>\n",
       "    <tr>\n",
       "      <th>Mailed check</th>\n",
       "      <td>53.348936</td>\n",
       "      <td>390.739894</td>\n",
       "    </tr>\n",
       "    <tr>\n",
       "      <th rowspan=\"4\" valign=\"top\">One year</th>\n",
       "      <th>Bank transfer (automatic)</th>\n",
       "      <td>82.293421</td>\n",
       "      <td>4036.877632</td>\n",
       "    </tr>\n",
       "    <tr>\n",
       "      <th>Credit card (automatic)</th>\n",
       "      <td>86.454878</td>\n",
       "      <td>4483.595122</td>\n",
       "    </tr>\n",
       "    <tr>\n",
       "      <th>Electronic check</th>\n",
       "      <td>91.043750</td>\n",
       "      <td>4530.310937</td>\n",
       "    </tr>\n",
       "    <tr>\n",
       "      <th>Mailed check</th>\n",
       "      <td>70.428261</td>\n",
       "      <td>2079.241304</td>\n",
       "    </tr>\n",
       "    <tr>\n",
       "      <th rowspan=\"4\" valign=\"top\">Two year</th>\n",
       "      <th>Bank transfer (automatic)</th>\n",
       "      <td>95.410526</td>\n",
       "      <td>6082.392105</td>\n",
       "    </tr>\n",
       "    <tr>\n",
       "      <th>Credit card (automatic)</th>\n",
       "      <td>82.061538</td>\n",
       "      <td>5309.380769</td>\n",
       "    </tr>\n",
       "    <tr>\n",
       "      <th>Electronic check</th>\n",
       "      <td>88.180769</td>\n",
       "      <td>5361.407692</td>\n",
       "    </tr>\n",
       "    <tr>\n",
       "      <th>Mailed check</th>\n",
       "      <td>46.450000</td>\n",
       "      <td>2155.916667</td>\n",
       "    </tr>\n",
       "  </tbody>\n",
       "</table>\n",
       "</div>"
      ],
      "text/plain": [
       "                                                MonthlyCharges  TotalCharges\n",
       "Churn Contract       PaymentMethod                                          \n",
       "No    Month-to-month Bank transfer (automatic)       65.823067   2049.132345\n",
       "                     Credit card (automatic)         64.149178   1885.440411\n",
       "                     Electronic check                71.746437   1768.714486\n",
       "                     Mailed check                    42.681342    624.239853\n",
       "      One year       Bank transfer (automatic)       65.889943   3235.082861\n",
       "                     Credit card (automatic)         65.849720   3227.901261\n",
       "                     Electronic check                76.393110   3700.161837\n",
       "                     Mailed check                    42.465495   1439.525559\n",
       "      Two year       Bank transfer (automatic)       63.979006   4098.748711\n",
       "                     Credit card (automatic)         64.032451   4031.370459\n",
       "                     Electronic check                84.013226   5265.557742\n",
       "                     Mailed check                    38.536559   1868.094624\n",
       "Yes   Month-to-month Bank transfer (automatic)       75.382836   1575.348010\n",
       "                     Credit card (automatic)         74.916573   1642.755337\n",
       "                     Electronic check                77.782294   1215.229577\n",
       "                     Mailed check                    53.348936    390.739894\n",
       "      One year       Bank transfer (automatic)       82.293421   4036.877632\n",
       "                     Credit card (automatic)         86.454878   4483.595122\n",
       "                     Electronic check                91.043750   4530.310937\n",
       "                     Mailed check                    70.428261   2079.241304\n",
       "      Two year       Bank transfer (automatic)       95.410526   6082.392105\n",
       "                     Credit card (automatic)         82.061538   5309.380769\n",
       "                     Electronic check                88.180769   5361.407692\n",
       "                     Mailed check                    46.450000   2155.916667"
      ]
     },
     "execution_count": 47,
     "metadata": {},
     "output_type": "execute_result"
    }
   ],
   "source": [
    "df_clean.groupby(['Churn','Contract','PaymentMethod']).mean()[['MonthlyCharges','TotalCharges']]"
   ]
  },
  {
   "cell_type": "code",
   "execution_count": 48,
   "id": "7e5afd26",
   "metadata": {},
   "outputs": [],
   "source": [
    "# both for fam =1 and fam >1 , we see a similar trend in churn rate. When comparing contract and payment type, People(fam=1 and fam >1) with only internet serive who churned has no one year or two-year contract. Looking at the prices,people with one year or two year contract almost same as month-to-month contract , sometimes even more. \n",
    "# As a part of customemr retention program, they sould focus on pricing and insentive for long term contract. That will attract more peopel in long term contract hencce reduce customer churn."
   ]
  }
 ],
 "metadata": {
  "kernelspec": {
   "display_name": "Python 3",
   "language": "python",
   "name": "python3"
  },
  "language_info": {
   "codemirror_mode": {
    "name": "ipython",
    "version": 3
   },
   "file_extension": ".py",
   "mimetype": "text/x-python",
   "name": "python",
   "nbconvert_exporter": "python",
   "pygments_lexer": "ipython3",
   "version": "3.8.8"
  }
 },
 "nbformat": 4,
 "nbformat_minor": 5
}
